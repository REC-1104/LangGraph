{
 "cells": [
  {
   "cell_type": "code",
   "execution_count": 1,
   "id": "76e77c26",
   "metadata": {},
   "outputs": [],
   "source": [
    "from langgraph.graph import StateGraph, MessagesState, START, END  # StateGraph: Defines a graph for stateful workflows; MessagesState: Manages a list of conversation messages; START/END: Constants for graph entry/exit points.\n",
    "from langgraph.graph.message import add_messages  # add_messages: Appends new messages to the state.\n",
    "from typing import Annotated, Literal, TypedDict  # Annotated: Adds metadata to type hints for state updates; Literal: Restricts variables to specific literal values; TypedDict: Defines a dictionary with fixed keys and types.\n",
    "from langchain.tools import tool  # tool: Decorator for functions callable as agent tools.\n",
    "from langchain_groq import ChatGroq  # ChatGroq: Interface for Groq's language model.\n",
    "from langchain_core.messages import HumanMessage  # HumanMessage: Represents a user’s input message.\n",
    "from langgraph.checkpoint.memory import MemorySaver  # MemorySaver: Saves graph state in memory.\n",
    "from langgraph.prebuilt import ToolNode  # ToolNode: Executes tools and updates state.\n",
    "\n",
    "from IPython.display import display, Image\n",
    "def show_image(app):\n",
    "    try:\n",
    "        display(Image(app.get_graph().draw_mermaid_png()))\n",
    "    except Exception as e:\n",
    "        print(e)\n",
    "\n",
    "def stream_op(app,input):\n",
    "    input = {\"messages\":[input]}\n",
    "    for output in app.stream(input):\n",
    "        for key, value in output.items():\n",
    "            print(f\"Output from {key} node.\")\n",
    "            print(\"========================\")\n",
    "            print(value)\n",
    "            print()"
   ]
  },
  {
   "cell_type": "code",
   "execution_count": 2,
   "id": "14fac6ee",
   "metadata": {},
   "outputs": [],
   "source": [
    "llm = ChatGroq(model=\"gemma2-9b-it\")"
   ]
  },
  {
   "cell_type": "code",
   "execution_count": 3,
   "id": "93a1ae50",
   "metadata": {},
   "outputs": [],
   "source": [
    "def call_model(state : MessagesState):\n",
    "    messages = state['messages']\n",
    "    response = llm.invoke(messages)\n",
    "    return {'messages' : [response]}"
   ]
  },
  {
   "cell_type": "code",
   "execution_count": 4,
   "id": "976a2fc2",
   "metadata": {},
   "outputs": [],
   "source": [
    "workflow = StateGraph(MessagesState)\n",
    "workflow.add_node('chatbot',call_model)\n",
    "workflow.add_edge(START,'chatbot')\n",
    "workflow.add_edge('chatbot',END)\n",
    "app = workflow.compile()"
   ]
  },
  {
   "cell_type": "code",
   "execution_count": 5,
   "id": "8e09fb33",
   "metadata": {},
   "outputs": [
    {
     "data": {
      "image/png": "[encoded data removed]",
      "text/plain": [
       "<IPython.core.display.Image object>"
      ]
     },
     "metadata": {},
     "output_type": "display_data"
    }
   ],
   "source": [
    "show_image(app)"
   ]
  },
  {
   "cell_type": "code",
   "execution_count": 6,
   "id": "6e788c50",
   "metadata": {},
   "outputs": [],
   "source": [
    "input = {'messages' : ['Hi, I am DP.']}"
   ]
  },
  {
   "cell_type": "code",
   "execution_count": 7,
   "id": "815e8a14",
   "metadata": {},
   "outputs": [
    {
     "data": {
      "text/plain": [
       "{'messages': [HumanMessage(content='Hi, I am DP.', additional_kwargs={}, response_metadata={}, id='04aaa853-89cc-46d4-a24a-c19e624673a7'),\n",
       "  AIMessage(content=\"Hello DP, it's nice to meet you!\\n\\nWhat can I do for you today?\\n\", additional_kwargs={}, response_metadata={'token_usage': {'completion_tokens': 23, 'prompt_tokens': 15, 'total_tokens': 38, 'completion_time': 0.041818182, 'prompt_time': 0.001933688, 'queue_time': 0.230562141, 'total_time': 0.04375187}, 'model_name': 'gemma2-9b-it', 'system_fingerprint': 'fp_10c08bf97d', 'finish_reason': 'stop', 'logprobs': None}, id='run-80caab64-1df3-4020-ae15-906f1221eca9-0', usage_metadata={'input_tokens': 15, 'output_tokens': 23, 'total_tokens': 38})]}"
      ]
     },
     "execution_count": 7,
     "metadata": {},
     "output_type": "execute_result"
    }
   ],
   "source": [
    "app.invoke(input)"
   ]
  },
  {
   "cell_type": "code",
   "execution_count": 8,
   "id": "3fb2b847",
   "metadata": {},
   "outputs": [
    {
     "name": "stdout",
     "output_type": "stream",
     "text": [
      "Output from chatbot node.\n",
      "========================\n",
      "{'messages': [AIMessage(content='Hey there! 👋  What can I do for you today?\\n', additional_kwargs={}, response_metadata={'token_usage': {'completion_tokens': 16, 'prompt_tokens': 11, 'total_tokens': 27, 'completion_time': 0.029090909, 'prompt_time': 0.001949117, 'queue_time': 0.348573371, 'total_time': 0.031040026}, 'model_name': 'gemma2-9b-it', 'system_fingerprint': 'fp_10c08bf97d', 'finish_reason': 'stop', 'logprobs': None}, id='run-12d2b0e4-175a-448b-b2b2-ea99eabf85c9-0', usage_metadata={'input_tokens': 11, 'output_tokens': 16, 'total_tokens': 27})]}\n",
      "\n"
     ]
    }
   ],
   "source": [
    "stream_op(app,\"hey buddy\")"
   ]
  },
  {
   "cell_type": "code",
   "execution_count": 9,
   "id": "e4ae093c",
   "metadata": {},
   "outputs": [],
   "source": [
    "@tool \n",
    "def search(query: str):\n",
    "    \"\"\"this is a custom tool.\"\"\"\n",
    "    if \"sf\" in query.lower() or \"san francisco\" in query.lower():\n",
    "        return \"its 30 degrees and foggy.\"\n",
    "    return \"its 28 degrees and sunny.\""
   ]
  },
  {
   "cell_type": "code",
   "execution_count": 10,
   "id": "4fff8cd4",
   "metadata": {},
   "outputs": [
    {
     "data": {
      "text/plain": [
       "'its 30 degrees and foggy.'"
      ]
     },
     "execution_count": 10,
     "metadata": {},
     "output_type": "execute_result"
    }
   ],
   "source": [
    "search.invoke('what is temperature in sf?')"
   ]
  },
  {
   "cell_type": "code",
   "execution_count": 11,
   "id": "9716e56e",
   "metadata": {},
   "outputs": [
    {
     "data": {
      "text/plain": [
       "'its 28 degrees and sunny.'"
      ]
     },
     "execution_count": 11,
     "metadata": {},
     "output_type": "execute_result"
    }
   ],
   "source": [
    "search.invoke('what is temperature in ind?')"
   ]
  },
  {
   "cell_type": "code",
   "execution_count": 12,
   "id": "ecbcc960",
   "metadata": {},
   "outputs": [
    {
     "data": {
      "text/plain": [
       "StructuredTool(name='search', description='this is a custom tool.', args_schema=<class 'langchain_core.utils.pydantic.search'>, func=<function search at 0x000001C4FE7B3B00>)"
      ]
     },
     "execution_count": 12,
     "metadata": {},
     "output_type": "execute_result"
    }
   ],
   "source": [
    "search"
   ]
  },
  {
   "cell_type": "code",
   "execution_count": 13,
   "id": "80418127",
   "metadata": {},
   "outputs": [],
   "source": [
    "tools = [search]"
   ]
  },
  {
   "cell_type": "code",
   "execution_count": 14,
   "id": "7b44dfa0",
   "metadata": {},
   "outputs": [],
   "source": [
    "tool_node = ToolNode(tools)"
   ]
  },
  {
   "cell_type": "code",
   "execution_count": 15,
   "id": "926c5560",
   "metadata": {},
   "outputs": [
    {
     "data": {
      "text/plain": [
       "tools(tags=None, recurse=True, explode_args=False, func_accepts_config=True, func_accepts={'store': ('__pregel_store', None)}, tools_by_name={'search': StructuredTool(name='search', description='this is a custom tool.', args_schema=<class 'langchain_core.utils.pydantic.search'>, func=<function search at 0x000001C4FE7B3B00>)}, tool_to_state_args={'search': {}}, tool_to_store_arg={'search': None}, handle_tool_errors=True, messages_key='messages')"
      ]
     },
     "execution_count": 15,
     "metadata": {},
     "output_type": "execute_result"
    }
   ],
   "source": [
    "tool_node"
   ]
  },
  {
   "cell_type": "code",
   "execution_count": 16,
   "id": "31be228d",
   "metadata": {},
   "outputs": [],
   "source": [
    "llm_with_tool = llm.bind_tools(tools)"
   ]
  },
  {
   "cell_type": "code",
   "execution_count": 17,
   "id": "851efe5a",
   "metadata": {},
   "outputs": [],
   "source": [
    "def call_model(state : MessagesState):\n",
    "    messages = state['messages']\n",
    "    response = llm_with_tool.invoke(messages)\n",
    "    return {'messages' : [response]}"
   ]
  },
  {
   "cell_type": "code",
   "execution_count": 18,
   "id": "a7cad235",
   "metadata": {},
   "outputs": [],
   "source": [
    "response = call_model({\"messages\" : \"Hi, how are you ?\"})"
   ]
  },
  {
   "cell_type": "code",
   "execution_count": 19,
   "id": "433357c2",
   "metadata": {},
   "outputs": [
    {
     "data": {
      "text/plain": [
       "{'messages': [AIMessage(content='', additional_kwargs={'tool_calls': [{'id': 'call_qqzx', 'function': {'arguments': '{\"query\":\"How are you?\"}', 'name': 'search'}, 'type': 'function'}]}, response_metadata={'token_usage': {'completion_tokens': 82, 'prompt_tokens': 942, 'total_tokens': 1024, 'completion_time': 0.149090909, 'prompt_time': 0.043156078, 'queue_time': 0.2319832, 'total_time': 0.192246987}, 'model_name': 'gemma2-9b-it', 'system_fingerprint': 'fp_10c08bf97d', 'finish_reason': 'tool_calls', 'logprobs': None}, id='run-28718628-8a7c-480d-8b8d-d4ce642fa3d5-0', tool_calls=[{'name': 'search', 'args': {'query': 'How are you?'}, 'id': 'call_qqzx', 'type': 'tool_call'}], usage_metadata={'input_tokens': 942, 'output_tokens': 82, 'total_tokens': 1024})]}"
      ]
     },
     "execution_count": 19,
     "metadata": {},
     "output_type": "execute_result"
    }
   ],
   "source": [
    "response"
   ]
  },
  {
   "cell_type": "code",
   "execution_count": 20,
   "id": "14dbdc07",
   "metadata": {},
   "outputs": [],
   "source": [
    "messages = response['messages']"
   ]
  },
  {
   "cell_type": "code",
   "execution_count": 21,
   "id": "d3418b78",
   "metadata": {},
   "outputs": [],
   "source": [
    "last_message = messages[-1]"
   ]
  },
  {
   "cell_type": "code",
   "execution_count": 22,
   "id": "e5ec6388",
   "metadata": {},
   "outputs": [
    {
     "data": {
      "text/plain": [
       "[{'name': 'search',\n",
       "  'args': {'query': 'How are you?'},\n",
       "  'id': 'call_qqzx',\n",
       "  'type': 'tool_call'}]"
      ]
     },
     "execution_count": 22,
     "metadata": {},
     "output_type": "execute_result"
    }
   ],
   "source": [
    "last_message.tool_calls"
   ]
  },
  {
   "cell_type": "code",
   "execution_count": 23,
   "id": "f767757b",
   "metadata": {},
   "outputs": [],
   "source": [
    "response = call_model({\"messages\" : \"What's the weather in taliban ?\"})"
   ]
  },
  {
   "cell_type": "code",
   "execution_count": 24,
   "id": "fcc4a64d",
   "metadata": {},
   "outputs": [
    {
     "data": {
      "text/plain": [
       "[{'name': 'search',\n",
       "  'args': {'query': 'weather in taliban'},\n",
       "  'id': 'call_kxsf',\n",
       "  'type': 'tool_call'}]"
      ]
     },
     "execution_count": 24,
     "metadata": {},
     "output_type": "execute_result"
    }
   ],
   "source": [
    "response['messages'][-1].tool_calls"
   ]
  },
  {
   "cell_type": "code",
   "execution_count": 25,
   "id": "f2bd0a50",
   "metadata": {},
   "outputs": [],
   "source": [
    "def router_function(state: MessagesState) -> Literal[\"tools\", END]:\n",
    "    last_message = state['messages'][-1]\n",
    "    if last_message.tool_calls:\n",
    "        return \"tools\"\n",
    "    return END"
   ]
  },
  {
   "cell_type": "code",
   "execution_count": 26,
   "id": "e305282a",
   "metadata": {},
   "outputs": [],
   "source": [
    "workflow = StateGraph(MessagesState)\n",
    "workflow.add_node('agent',call_model)\n",
    "workflow.add_node('tools',tool_node)\n",
    "workflow.add_edge(START,'agent')\n",
    "workflow.add_conditional_edges(\n",
    "    'agent',\n",
    "    router_function,\n",
    "    {\n",
    "        \"tools\" : \"tools\",\n",
    "        END : END\n",
    "    }\n",
    ")\n",
    "app = workflow.compile()"
   ]
  },
  {
   "cell_type": "code",
   "execution_count": 27,
   "id": "b026f125",
   "metadata": {},
   "outputs": [
    {
     "data": {
      "image/png": "[encoded data removed]",
      "text/plain": [
       "<IPython.core.display.Image object>"
      ]
     },
     "metadata": {},
     "output_type": "display_data"
    }
   ],
   "source": [
    "show_image(app)"
   ]
  },
  {
   "cell_type": "code",
   "execution_count": 28,
   "id": "9d04edc8",
   "metadata": {},
   "outputs": [
    {
     "data": {
      "text/plain": [
       "{'messages': [HumanMessage(content='Whats the weather in sf?', additional_kwargs={}, response_metadata={}, id='dfd753d3-e5b5-4fd2-a16c-7ad8308fb899'),\n",
       "  AIMessage(content='', additional_kwargs={'tool_calls': [{'id': 'call_m7ee', 'function': {'arguments': '{\"query\":\"weather in sf\"}', 'name': 'search'}, 'type': 'function'}]}, response_metadata={'token_usage': {'completion_tokens': 82, 'prompt_tokens': 942, 'total_tokens': 1024, 'completion_time': 0.149090909, 'prompt_time': 0.044555557, 'queue_time': 0.23616961700000003, 'total_time': 0.193646466}, 'model_name': 'gemma2-9b-it', 'system_fingerprint': 'fp_10c08bf97d', 'finish_reason': 'tool_calls', 'logprobs': None}, id='run-58cbd1e0-871b-45c2-a412-32d96c28874b-0', tool_calls=[{'name': 'search', 'args': {'query': 'weather in sf'}, 'id': 'call_m7ee', 'type': 'tool_call'}], usage_metadata={'input_tokens': 942, 'output_tokens': 82, 'total_tokens': 1024}),\n",
       "  ToolMessage(content='its 30 degrees and foggy.', name='search', id='ec7adf52-36e6-43ac-bf43-c5164014b2f2', tool_call_id='call_m7ee')]}"
      ]
     },
     "execution_count": 28,
     "metadata": {},
     "output_type": "execute_result"
    }
   ],
   "source": [
    "app.invoke({'messages':['Whats the weather in sf?']})"
   ]
  },
  {
   "cell_type": "code",
   "execution_count": 29,
   "id": "63238501",
   "metadata": {},
   "outputs": [
    {
     "name": "stderr",
     "output_type": "stream",
     "text": [
      "Adding an edge to a graph that has already been compiled. This will not be reflected in the compiled graph.\n"
     ]
    },
    {
     "data": {
      "text/plain": [
       "<langgraph.graph.state.StateGraph at 0x1c481393c90>"
      ]
     },
     "execution_count": 29,
     "metadata": {},
     "output_type": "execute_result"
    }
   ],
   "source": [
    "workflow.add_edge('tools','agent')"
   ]
  },
  {
   "cell_type": "code",
   "execution_count": 30,
   "id": "3582e591",
   "metadata": {},
   "outputs": [],
   "source": [
    "app = workflow.compile()"
   ]
  },
  {
   "cell_type": "code",
   "execution_count": 31,
   "id": "90ef281e",
   "metadata": {},
   "outputs": [
    {
     "data": {
      "image/png": "[encoded data removed]",
      "text/plain": [
       "<IPython.core.display.Image object>"
      ]
     },
     "metadata": {},
     "output_type": "display_data"
    }
   ],
   "source": [
    "show_image(app)"
   ]
  },
  {
   "cell_type": "code",
   "execution_count": 32,
   "id": "ff3dad61",
   "metadata": {},
   "outputs": [
    {
     "name": "stdout",
     "output_type": "stream",
     "text": [
      "Output from agent node.\n",
      "========================\n",
      "{'messages': [AIMessage(content='', additional_kwargs={'tool_calls': [{'id': 'call_nta6', 'function': {'arguments': '{\"query\":\"temperature in san francisco\"}', 'name': 'search'}, 'type': 'function'}]}, response_metadata={'token_usage': {'completion_tokens': 83, 'prompt_tokens': 941, 'total_tokens': 1024, 'completion_time': 0.150909091, 'prompt_time': 0.03314611, 'queue_time': 0.234407629, 'total_time': 0.184055201}, 'model_name': 'gemma2-9b-it', 'system_fingerprint': 'fp_10c08bf97d', 'finish_reason': 'tool_calls', 'logprobs': None}, id='run-017650cb-8b89-4383-b96c-1bc262e9ccff-0', tool_calls=[{'name': 'search', 'args': {'query': 'temperature in san francisco'}, 'id': 'call_nta6', 'type': 'tool_call'}], usage_metadata={'input_tokens': 941, 'output_tokens': 83, 'total_tokens': 1024})]}\n",
      "\n",
      "Output from tools node.\n",
      "========================\n",
      "{'messages': [ToolMessage(content='its 30 degrees and foggy.', name='search', id='6a9e9763-6bec-4dc1-ba55-f4220204ff65', tool_call_id='call_nta6')]}\n",
      "\n",
      "Output from agent node.\n",
      "========================\n",
      "{'messages': [AIMessage(content='The temperature in San Francisco is 30 degrees and foggy. \\n', additional_kwargs={}, response_metadata={'token_usage': {'completion_tokens': 17, 'prompt_tokens': 1018, 'total_tokens': 1035, 'completion_time': 0.030909091, 'prompt_time': 0.037868885, 'queue_time': 0.237399469, 'total_time': 0.068777976}, 'model_name': 'gemma2-9b-it', 'system_fingerprint': 'fp_10c08bf97d', 'finish_reason': 'stop', 'logprobs': None}, id='run-80906a26-63a0-4bc9-9cb9-8f70bc2f637b-0', usage_metadata={'input_tokens': 1018, 'output_tokens': 17, 'total_tokens': 1035})]}\n",
      "\n"
     ]
    }
   ],
   "source": [
    "stream_op(app,\"whats temperature in sf?\")"
   ]
  },
  {
   "cell_type": "code",
   "execution_count": 33,
   "id": "e5639974",
   "metadata": {},
   "outputs": [],
   "source": [
    "memory = MemorySaver()"
   ]
  },
  {
   "cell_type": "code",
   "execution_count": 34,
   "id": "bd71668f",
   "metadata": {},
   "outputs": [],
   "source": [
    "workflow = StateGraph(MessagesState)\n",
    "workflow.add_node('agent',call_model)\n",
    "workflow.add_node('tools',tool_node)\n",
    "workflow.add_edge(START,'agent')\n",
    "workflow.add_conditional_edges(\n",
    "    'agent',\n",
    "    router_function,\n",
    "    {\n",
    "        \"tools\" : \"tools\",\n",
    "        END : END\n",
    "    }\n",
    ")\n",
    "app = workflow.compile(checkpointer=memory)"
   ]
  },
  {
   "cell_type": "code",
   "execution_count": 35,
   "id": "115853ce",
   "metadata": {},
   "outputs": [],
   "source": [
    "config = {\n",
    "    \"configurable\" : {\n",
    "        \"thread_id\" : \"1\"\n",
    "    }\n",
    "}"
   ]
  },
  {
   "cell_type": "code",
   "execution_count": 36,
   "id": "7b54c4f9",
   "metadata": {},
   "outputs": [],
   "source": [
    "events = app.stream({\"messages\" : [\"Hi, I am DP.\"]}, config=config, stream_mode='values')"
   ]
  },
  {
   "cell_type": "code",
   "execution_count": 37,
   "id": "ba2d00bc",
   "metadata": {},
   "outputs": [
    {
     "name": "stdout",
     "output_type": "stream",
     "text": [
      "================================\u001b[1m Human Message \u001b[0m=================================\n",
      "\n",
      "Hi, I am DP.\n",
      "==================================\u001b[1m Ai Message \u001b[0m==================================\n",
      "Tool Calls:\n",
      "  search (call_8sbb)\n",
      " Call ID: call_8sbb\n",
      "  Args:\n",
      "    query: hi, I am dp\n",
      "=================================\u001b[1m Tool Message \u001b[0m=================================\n",
      "Name: search\n",
      "\n",
      "its 28 degrees and sunny.\n"
     ]
    }
   ],
   "source": [
    "for event in events:\n",
    "    event[\"messages\"][-1].pretty_print()"
   ]
  },
  {
   "cell_type": "code",
   "execution_count": 38,
   "id": "876fae8b",
   "metadata": {},
   "outputs": [],
   "source": [
    "events = app.stream({\"messages\" : [\"Can you tell my name ?\"]}, config=config, stream_mode='values')"
   ]
  },
  {
   "cell_type": "code",
   "execution_count": 39,
   "id": "07eeda21",
   "metadata": {},
   "outputs": [
    {
     "name": "stdout",
     "output_type": "stream",
     "text": [
      "================================\u001b[1m Human Message \u001b[0m=================================\n",
      "\n",
      "Can you tell my name ?\n",
      "==================================\u001b[1m Ai Message \u001b[0m==================================\n",
      "\n",
      "Your name is DP.\n"
     ]
    }
   ],
   "source": [
    "for event in events:\n",
    "    event[\"messages\"][-1].pretty_print()"
   ]
  },
  {
   "cell_type": "code",
   "execution_count": 40,
   "id": "827f20fa",
   "metadata": {},
   "outputs": [
    {
     "data": {
      "text/plain": [
       "{'v': 3,\n",
       " 'ts': '2025-04-18T11:28:49.635886+00:00',\n",
       " 'id': '1f01c484-c923-65cf-8005-bba20379e48d',\n",
       " 'channel_versions': {'__start__': '00000000000000000000000000000006.0.08518356329082666',\n",
       "  'messages': '00000000000000000000000000000007.0.8213542491577601',\n",
       "  'branch:to:agent': '00000000000000000000000000000007.0.1222910444433023',\n",
       "  'branch:to:tools': '00000000000000000000000000000004.0.1738282391227325'},\n",
       " 'versions_seen': {'__input__': {},\n",
       "  '__start__': {'__start__': '00000000000000000000000000000005.0.9795519801760564'},\n",
       "  'agent': {'branch:to:agent': '00000000000000000000000000000006.0.022688973806106683'},\n",
       "  'tools': {'branch:to:tools': '00000000000000000000000000000003.0.2909158358734304'}},\n",
       " 'channel_values': {'messages': [HumanMessage(content='Hi, I am DP.', additional_kwargs={}, response_metadata={}, id='8170eb0a-a723-48ab-922b-84d5f553ae4b'),\n",
       "   AIMessage(content='', additional_kwargs={'tool_calls': [{'id': 'call_8sbb', 'function': {'arguments': '{\"query\":\"hi, I am dp\"}', 'name': 'search'}, 'type': 'function'}]}, response_metadata={'token_usage': {'completion_tokens': 84, 'prompt_tokens': 942, 'total_tokens': 1026, 'completion_time': 0.152727273, 'prompt_time': 0.039081673, 'queue_time': 0.23887904600000004, 'total_time': 0.191808946}, 'model_name': 'gemma2-9b-it', 'system_fingerprint': 'fp_10c08bf97d', 'finish_reason': 'tool_calls', 'logprobs': None}, id='run-c2e8344b-2f23-47e9-9e6b-fab15face1d6-0', tool_calls=[{'name': 'search', 'args': {'query': 'hi, I am dp'}, 'id': 'call_8sbb', 'type': 'tool_call'}], usage_metadata={'input_tokens': 942, 'output_tokens': 84, 'total_tokens': 1026}),\n",
       "   ToolMessage(content='its 28 degrees and sunny.', name='search', id='ef1cc45b-4326-476f-9676-c2bb03fed830', tool_call_id='call_8sbb'),\n",
       "   HumanMessage(content='Can you tell my name ?', additional_kwargs={}, response_metadata={}, id='d6a481f2-a1f9-47f2-99ee-6e5bbc870681'),\n",
       "   AIMessage(content='Your name is DP. \\n', additional_kwargs={}, response_metadata={'token_usage': {'completion_tokens': 9, 'prompt_tokens': 1038, 'total_tokens': 1047, 'completion_time': 0.016363636, 'prompt_time': 0.036273037, 'queue_time': 0.235497601, 'total_time': 0.052636673}, 'model_name': 'gemma2-9b-it', 'system_fingerprint': 'fp_10c08bf97d', 'finish_reason': 'stop', 'logprobs': None}, id='run-5ce6871f-60f5-4ace-a89b-79d19a327cbe-0', usage_metadata={'input_tokens': 1038, 'output_tokens': 9, 'total_tokens': 1047})]},\n",
       " 'pending_sends': []}"
      ]
     },
     "execution_count": 40,
     "metadata": {},
     "output_type": "execute_result"
    }
   ],
   "source": [
    "memory.get(config)"
   ]
  }
 ],
 "metadata": {
  "kernelspec": {
   "display_name": "venv",
   "language": "python",
   "name": "python3"
  },
  "language_info": {
   "codemirror_mode": {
    "name": "ipython",
    "version": 3
   },
   "file_extension": ".py",
   "mimetype": "text/x-python",
   "name": "python",
   "nbconvert_exporter": "python",
   "pygments_lexer": "ipython3",
   "version": "3.11.3"
  }
 },
 "nbformat": 4,
 "nbformat_minor": 5
}
