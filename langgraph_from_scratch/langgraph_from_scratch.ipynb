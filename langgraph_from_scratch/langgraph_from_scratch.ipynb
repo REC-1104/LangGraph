{
 "cells": [
  {
   "cell_type": "markdown",
   "id": "1308023c",
   "metadata": {},
   "source": [
    "<img src = \"../assets/Screenshot 2025-04-12 133013.png\"/>"
   ]
  },
  {
   "cell_type": "markdown",
   "id": "6135f9b0",
   "metadata": {},
   "source": [
    "First Image "
   ]
  },
  {
   "cell_type": "code",
   "execution_count": null,
   "id": "9e7bc56f",
   "metadata": {},
   "outputs": [],
   "source": [
    "from langgraph.graph import Graph, StateGraph, END\n",
    "from IPython.display import Image, display\n",
    "from langchain_groq import ChatGroq\n",
    "from langchain_google_genai import GoogleGenerativeAIEmbeddings\n",
    "import os  \n",
    "from dotenv import load_dotenv \n",
    "load_dotenv()\n",
    "\n",
    "# RAG\n",
    "from langchain_core.output_parsers import StrOutputParser\n",
    "from langchain_core.prompts import ChatPromptTemplate\n",
    "from langchain_core.runnables import RunnablePassthrough\n",
    "from langchain_community.document_loaders import TextLoader, DirectoryLoader\n",
    "from langchain_community.vectorstores import Chroma\n",
    "from langchain.text_splitter import RecursiveCharacterTextSplitter\n",
    "\n",
    "from typing import TypedDict, Annotated, Sequence\n",
    "import operator\n",
    "from langchain_core.messages import BaseMessage\n",
    "from langchain.prompts import PromptTemplate\n",
    "from pydantic import BaseModel, Field\n",
    "from langchain.output_parsers import PydanticOutputParser"
   ]
  },
  {
   "cell_type": "code",
   "execution_count": 2,
   "id": "ece58068",
   "metadata": {},
   "outputs": [],
   "source": [
    "LANGCHAIN_API_KEY = os.getenv(\"LANGCHAIN_API_KEY\")\n",
    "GOOGLE_API_KEY = os.getenv(\"GOOGLE_API_KEY\")\n",
    "GROQ_API_KEY = os.getenv(\"GROQ_API_KEY\")\n",
    "LANGCHAIN_PROJECT = os.getenv(\"LANGCHAIN_PROJECT\")"
   ]
  },
  {
   "cell_type": "code",
   "execution_count": 3,
   "id": "f1e5de3a",
   "metadata": {},
   "outputs": [],
   "source": [
    "os.environ[\"LANGCHAIN_API_KEY\"] = LANGCHAIN_API_KEY\n",
    "os.environ[\"GOOGLE_API_KEY\"] = GOOGLE_API_KEY\n",
    "os.environ[\"GROQ_API_KEY\"] = GROQ_API_KEY\n",
    "os.environ[\"LANGCHAIN_PROJECT\"] = LANGCHAIN_PROJECT\n",
    "os.environ[\"LANGCHAIN_TRACING_V2\"] = \"true\"\n",
    "os.environ[\"LANGCHAIN_ENDPOINT\"] = \"https://api.smith.langchain.com\""
   ]
  },
  {
   "cell_type": "code",
   "execution_count": 4,
   "id": "03b29145",
   "metadata": {},
   "outputs": [],
   "source": [
    "def function1(input):\n",
    "    return input + \", a substitue shinigami\"\n",
    "\n",
    "def function2(input):\n",
    "    return input + \" from Earth\""
   ]
  },
  {
   "cell_type": "code",
   "execution_count": 5,
   "id": "930cfd9d",
   "metadata": {},
   "outputs": [],
   "source": [
    "workflow1 = Graph()"
   ]
  },
  {
   "cell_type": "code",
   "execution_count": 6,
   "id": "7356f31a",
   "metadata": {},
   "outputs": [
    {
     "data": {
      "text/plain": [
       "<langgraph.graph.graph.Graph at 0x1dc4f37f450>"
      ]
     },
     "execution_count": 6,
     "metadata": {},
     "output_type": "execute_result"
    }
   ],
   "source": [
    "workflow1.add_node(\"function1\", function1)"
   ]
  },
  {
   "cell_type": "code",
   "execution_count": 7,
   "id": "342ae5f6",
   "metadata": {},
   "outputs": [
    {
     "data": {
      "text/plain": [
       "<langgraph.graph.graph.Graph at 0x1dc4f37f450>"
      ]
     },
     "execution_count": 7,
     "metadata": {},
     "output_type": "execute_result"
    }
   ],
   "source": [
    "workflow1.add_node(\"function2\", function2)"
   ]
  },
  {
   "cell_type": "code",
   "execution_count": 8,
   "id": "5848429c",
   "metadata": {},
   "outputs": [
    {
     "data": {
      "text/plain": [
       "<langgraph.graph.graph.Graph at 0x1dc4f37f450>"
      ]
     },
     "execution_count": 8,
     "metadata": {},
     "output_type": "execute_result"
    }
   ],
   "source": [
    "workflow1.add_edge(\"function1\",\"function2\")"
   ]
  },
  {
   "cell_type": "code",
   "execution_count": 9,
   "id": "09efd4d6",
   "metadata": {},
   "outputs": [
    {
     "data": {
      "text/plain": [
       "<langgraph.graph.graph.Graph at 0x1dc4f37f450>"
      ]
     },
     "execution_count": 9,
     "metadata": {},
     "output_type": "execute_result"
    }
   ],
   "source": [
    "workflow1.set_entry_point(\"function1\")"
   ]
  },
  {
   "cell_type": "code",
   "execution_count": 10,
   "id": "4cd24288",
   "metadata": {},
   "outputs": [
    {
     "data": {
      "text/plain": [
       "<langgraph.graph.graph.Graph at 0x1dc4f37f450>"
      ]
     },
     "execution_count": 10,
     "metadata": {},
     "output_type": "execute_result"
    }
   ],
   "source": [
    "workflow1.set_finish_point(\"function2\")"
   ]
  },
  {
   "cell_type": "code",
   "execution_count": 11,
   "id": "7feb2511",
   "metadata": {},
   "outputs": [],
   "source": [
    "app1 = workflow1.compile()"
   ]
  },
  {
   "cell_type": "code",
   "execution_count": 12,
   "id": "3301a88b",
   "metadata": {},
   "outputs": [
    {
     "data": {
      "image/png": "[encoded data removed]",
      "text/plain": [
       "<IPython.core.display.Image object>"
      ]
     },
     "metadata": {},
     "output_type": "display_data"
    }
   ],
   "source": [
    "try:\n",
    "    display(Image(app1.get_graph().draw_mermaid_png()))\n",
    "except Exception as e:\n",
    "    print(e)"
   ]
  },
  {
   "cell_type": "code",
   "execution_count": 13,
   "id": "982f5660",
   "metadata": {},
   "outputs": [
    {
     "data": {
      "text/plain": [
       "'Hi, i am DP, a substitue shinigami from Earth'"
      ]
     },
     "execution_count": 13,
     "metadata": {},
     "output_type": "execute_result"
    }
   ],
   "source": [
    "app1.invoke(\"Hi, i am DP\")"
   ]
  },
  {
   "cell_type": "code",
   "execution_count": 14,
   "id": "18c9c2f1",
   "metadata": {},
   "outputs": [
    {
     "name": "stdout",
     "output_type": "stream",
     "text": [
      "---------------------\n",
      "Here is the output from function1\n",
      "======================\n",
      "Hi, I am DP, a substitue shinigami\n",
      "\n",
      "---------------------\n",
      "Here is the output from function2\n",
      "======================\n",
      "Hi, I am DP, a substitue shinigami from Earth\n",
      "\n"
     ]
    }
   ],
   "source": [
    "for output in app1.stream(\"Hi, I am DP\"):\n",
    "    for key, value in output.items():\n",
    "        print(\"---------------------\")\n",
    "        print(f\"Here is the output from {key}\")\n",
    "        print(\"======================\")\n",
    "        print(value)\n",
    "        print()"
   ]
  },
  {
   "cell_type": "markdown",
   "id": "61e80ce7",
   "metadata": {},
   "source": [
    "Second Image"
   ]
  },
  {
   "cell_type": "code",
   "execution_count": 15,
   "id": "c601175c",
   "metadata": {},
   "outputs": [],
   "source": [
    "def function1(input):\n",
    "    llm = ChatGroq(model_name=\"Gemma2-9b-It\")\n",
    "    return llm.invoke(input).content"
   ]
  },
  {
   "cell_type": "code",
   "execution_count": 16,
   "id": "f95ea0f7",
   "metadata": {},
   "outputs": [],
   "source": [
    "def function2(input):\n",
    "    return input.upper()"
   ]
  },
  {
   "cell_type": "code",
   "execution_count": 17,
   "id": "6d273f00",
   "metadata": {},
   "outputs": [],
   "source": [
    "workflow2 = Graph()"
   ]
  },
  {
   "cell_type": "code",
   "execution_count": 18,
   "id": "31a8a00f",
   "metadata": {},
   "outputs": [
    {
     "data": {
      "text/plain": [
       "<langgraph.graph.graph.Graph at 0x1dc4f41bc90>"
      ]
     },
     "execution_count": 18,
     "metadata": {},
     "output_type": "execute_result"
    }
   ],
   "source": [
    "workflow2.add_node(\"LLM\", function1)"
   ]
  },
  {
   "cell_type": "code",
   "execution_count": 19,
   "id": "2c7de42c",
   "metadata": {},
   "outputs": [
    {
     "data": {
      "text/plain": [
       "<langgraph.graph.graph.Graph at 0x1dc4f41bc90>"
      ]
     },
     "execution_count": 19,
     "metadata": {},
     "output_type": "execute_result"
    }
   ],
   "source": [
    "workflow2.add_node(\"upper_string\", function2)"
   ]
  },
  {
   "cell_type": "code",
   "execution_count": 20,
   "id": "65a3c5d5",
   "metadata": {},
   "outputs": [
    {
     "data": {
      "text/plain": [
       "<langgraph.graph.graph.Graph at 0x1dc4f41bc90>"
      ]
     },
     "execution_count": 20,
     "metadata": {},
     "output_type": "execute_result"
    }
   ],
   "source": [
    "workflow2.add_edge(\"LLM\",\"upper_string\")"
   ]
  },
  {
   "cell_type": "code",
   "execution_count": 21,
   "id": "fee7caf5",
   "metadata": {},
   "outputs": [
    {
     "data": {
      "text/plain": [
       "<langgraph.graph.graph.Graph at 0x1dc4f41bc90>"
      ]
     },
     "execution_count": 21,
     "metadata": {},
     "output_type": "execute_result"
    }
   ],
   "source": [
    "workflow2.set_entry_point(\"LLM\")"
   ]
  },
  {
   "cell_type": "code",
   "execution_count": 22,
   "id": "f5971f6e",
   "metadata": {},
   "outputs": [
    {
     "data": {
      "text/plain": [
       "<langgraph.graph.graph.Graph at 0x1dc4f41bc90>"
      ]
     },
     "execution_count": 22,
     "metadata": {},
     "output_type": "execute_result"
    }
   ],
   "source": [
    "workflow2.set_finish_point(\"upper_string\")"
   ]
  },
  {
   "cell_type": "code",
   "execution_count": 23,
   "id": "f8ff04f4",
   "metadata": {},
   "outputs": [],
   "source": [
    "app2 = workflow2.compile()"
   ]
  },
  {
   "cell_type": "code",
   "execution_count": 24,
   "id": "8d49f52c",
   "metadata": {},
   "outputs": [
    {
     "data": {
      "image/png": "[encoded data removed]",
      "text/plain": [
       "<IPython.core.display.Image object>"
      ]
     },
     "metadata": {},
     "output_type": "display_data"
    }
   ],
   "source": [
    "try:\n",
    "    display(Image(app2.get_graph().draw_mermaid_png()))\n",
    "except Exception as e:\n",
    "    print(e)"
   ]
  },
  {
   "cell_type": "code",
   "execution_count": 25,
   "id": "35fb6270",
   "metadata": {},
   "outputs": [
    {
     "name": "stdout",
     "output_type": "stream",
     "text": [
      "---------------------\n",
      "Here is the output from LLM\n",
      "======================\n",
      "Hello DP, it's nice to meet you! What can I do for you today? 😊  \n",
      "\n",
      "\n",
      "\n",
      "---------------------\n",
      "Here is the output from upper_string\n",
      "======================\n",
      "HELLO DP, IT'S NICE TO MEET YOU! WHAT CAN I DO FOR YOU TODAY? 😊  \n",
      "\n",
      "\n",
      "\n"
     ]
    }
   ],
   "source": [
    "for output in app2.stream(\"Hi, I am DP\"):\n",
    "    for key, value in output.items():\n",
    "        print(\"---------------------\")\n",
    "        print(f\"Here is the output from {key}\")\n",
    "        print(\"======================\")\n",
    "        print(value)\n",
    "        print()"
   ]
  },
  {
   "cell_type": "markdown",
   "id": "8e156b45",
   "metadata": {},
   "source": [
    "Third one"
   ]
  },
  {
   "cell_type": "code",
   "execution_count": 26,
   "id": "018e0b5c",
   "metadata": {},
   "outputs": [],
   "source": [
    "def function3(input):\n",
    "    token = input.split()\n",
    "    token_number = len(token)\n",
    "    token_number = f\"Total numbers of tokens: {token_number}\"\n",
    "    return token_number"
   ]
  },
  {
   "cell_type": "code",
   "execution_count": 27,
   "id": "17da5387",
   "metadata": {},
   "outputs": [],
   "source": [
    "workflow3 = Graph()\n",
    "workflow3.add_node(\"LLM\", function1)\n",
    "workflow3.add_node(\"token_counter\", function3)\n",
    "workflow3.add_edge(\"LLM\",\"token_counter\")\n",
    "workflow3.set_entry_point(\"LLM\")\n",
    "workflow3.set_finish_point(\"token_counter\")\n",
    "app3 = workflow3.compile()"
   ]
  },
  {
   "cell_type": "code",
   "execution_count": 28,
   "id": "bac23c87",
   "metadata": {},
   "outputs": [
    {
     "data": {
      "image/png": "[encoded data removed]",
      "text/plain": [
       "<IPython.core.display.Image object>"
      ]
     },
     "metadata": {},
     "output_type": "display_data"
    }
   ],
   "source": [
    "try:\n",
    "    display(Image(app3.get_graph().draw_mermaid_png()))\n",
    "except Exception as e:\n",
    "    print(e)"
   ]
  },
  {
   "cell_type": "code",
   "execution_count": 29,
   "id": "b42c3d71",
   "metadata": {},
   "outputs": [
    {
     "name": "stdout",
     "output_type": "stream",
     "text": [
      "---------------------\n",
      "Here is the output from LLM\n",
      "======================\n",
      "Hello DP! 👋  Nice to meet you. What can I do for you today? 😊  \n",
      "\n",
      "\n",
      "---------------------\n",
      "Here is the output from token_counter\n",
      "======================\n",
      "Total numbers of tokens: 15\n"
     ]
    }
   ],
   "source": [
    "for output in app3.stream(\"Hi, I am DP\"):\n",
    "    for key, value in output.items():\n",
    "        print(\"---------------------\")\n",
    "        print(f\"Here is the output from {key}\")\n",
    "        print(\"======================\")\n",
    "        print(value)"
   ]
  },
  {
   "cell_type": "markdown",
   "id": "3a395b17",
   "metadata": {},
   "source": [
    "Integrating a RAG pipeline in langgraph"
   ]
  },
  {
   "cell_type": "code",
   "execution_count": 30,
   "id": "393b65e4",
   "metadata": {},
   "outputs": [],
   "source": [
    "embeddings  = GoogleGenerativeAIEmbeddings(model=\"models/embedding-001\")\n",
    "llm = ChatGroq(model=\"gemma2-9b-it\")"
   ]
  },
  {
   "cell_type": "code",
   "execution_count": 31,
   "id": "96e796b3",
   "metadata": {},
   "outputs": [
    {
     "data": {
      "text/plain": [
       "AIMessage(content='Hello! 👋 How can I help you today? 😄\\n', additional_kwargs={}, response_metadata={'token_usage': {'completion_tokens': 14, 'prompt_tokens': 11, 'total_tokens': 25, 'completion_time': 0.025454545, 'prompt_time': 0.001899517, 'queue_time': 0.23237865100000002, 'total_time': 0.027354062}, 'model_name': 'gemma2-9b-it', 'system_fingerprint': 'fp_10c08bf97d', 'finish_reason': 'stop', 'logprobs': None}, id='run-c16699e9-27ab-4ec2-a602-7214c84cd627-0', usage_metadata={'input_tokens': 11, 'output_tokens': 14, 'total_tokens': 25})"
      ]
     },
     "execution_count": 31,
     "metadata": {},
     "output_type": "execute_result"
    }
   ],
   "source": [
    "llm.invoke(\"hi\")"
   ]
  },
  {
   "cell_type": "code",
   "execution_count": 32,
   "id": "c3f6d60d",
   "metadata": {},
   "outputs": [],
   "source": [
    "loader1 = DirectoryLoader('../data1', glob=\"./*.txt\", loader_cls=TextLoader)\n",
    "docs1 = loader1.load()\n",
    "text_splitter1 = RecursiveCharacterTextSplitter(\n",
    "    chunk_size = 100,\n",
    "    chunk_overlap = 50\n",
    ")\n",
    "new_docs1 = text_splitter1.split_documents(documents=docs1)\n",
    "dB1 = Chroma.from_documents(new_docs1,embeddings)\n",
    "retriever1 = dB1.as_retriever(search_kwargs = {\"k\" : 3})"
   ]
  },
  {
   "cell_type": "code",
   "execution_count": 33,
   "id": "ea6447da",
   "metadata": {},
   "outputs": [
    {
     "name": "stderr",
     "output_type": "stream",
     "text": [
      "C:\\Users\\Dhruv\\AppData\\Local\\Temp\\ipykernel_23600\\3290084923.py:2: LangChainDeprecationWarning: The method `BaseRetriever.get_relevant_documents` was deprecated in langchain-core 0.1.46 and will be removed in 1.0. Use :meth:`~invoke` instead.\n",
      "  docs1 = retriever1.get_relevant_documents(query1)\n"
     ]
    }
   ],
   "source": [
    "query1 = \"what is meta llama3?\"\n",
    "docs1 = retriever1.get_relevant_documents(query1)"
   ]
  },
  {
   "cell_type": "code",
   "execution_count": 34,
   "id": "1ec6699c",
   "metadata": {},
   "outputs": [
    {
     "name": "stdout",
     "output_type": "stream",
     "text": [
      "{'source': '..\\\\data1\\\\llama3.txt'}\n",
      "Alongside the release of Llama 3, Meta added virtual assistant features to Facebook and WhatsApp in\n"
     ]
    }
   ],
   "source": [
    "print(docs1[0].metadata)\n",
    "print(docs1[0].page_content)"
   ]
  },
  {
   "cell_type": "code",
   "execution_count": 35,
   "id": "ffd7a0d9",
   "metadata": {},
   "outputs": [
    {
     "name": "stdout",
     "output_type": "stream",
     "text": [
      "page_content='Alongside the release of Llama 3, Meta added virtual assistant features to Facebook and WhatsApp in' metadata={'source': '..\\\\data1\\\\llama3.txt'}\n",
      "page_content='by Meta AI starting in February 2023.[2][3] The latest version is Llama 3 released in April' metadata={'source': '..\\\\data1\\\\llama3.txt'}\n",
      "page_content='Llama 2, Meta AI started releasing instruction fine-tuned versions alongside foundation models.[7]' metadata={'source': '..\\\\data1\\\\llama3.txt'}\n"
     ]
    }
   ],
   "source": [
    "for doc in docs1:\n",
    "    print(doc)"
   ]
  },
  {
   "cell_type": "code",
   "execution_count": 36,
   "id": "2ee0cac5",
   "metadata": {},
   "outputs": [],
   "source": [
    "# assign AgentState as an empty dict\n",
    "AgentState = {}\n",
    "\n",
    "# messages key will be assigned as an empty array. We will append new messages as we pass along nodes. \n",
    "AgentState[\"messages\"] = []"
   ]
  },
  {
   "cell_type": "code",
   "execution_count": 37,
   "id": "2af4111d",
   "metadata": {},
   "outputs": [],
   "source": [
    "def function_1(AgentState):\n",
    "    messages = AgentState['messages']\n",
    "    question = messages[-1]\n",
    "    complete_prompt = \"\"\"Your task is to provide only the brief answer based on the user query.\n",
    "    Don't include too much reasoning. Following is the query:  \"\"\" + question\n",
    "    response = llm.invoke(complete_prompt)\n",
    "    AgentState['messages'].append(response.content)\n",
    "    # print(\"============\")\n",
    "    # print(AgentState)\n",
    "    # print(\"-------------\")\n",
    "    return AgentState"
   ]
  },
  {
   "cell_type": "code",
   "execution_count": 38,
   "id": "3060a405",
   "metadata": {},
   "outputs": [],
   "source": [
    "def function_2(AgentState):\n",
    "    messages = AgentState['messages']\n",
    "    question = messages[0] # fetching original user question\n",
    "    template = \"\"\"Answer the question based on the following context:\n",
    "    {context}\n",
    "\n",
    "    Question: {question}\n",
    "    \"\"\"\n",
    "    prompt = ChatPromptTemplate.from_template(template)\n",
    "    retrieval_chain = (\n",
    "        {\"context\" : retriever1, \"question\" : RunnablePassthrough()}\n",
    "        | prompt\n",
    "        | llm\n",
    "        | StrOutputParser()\n",
    "    )\n",
    "    # print(\"============\")\n",
    "    # print(AgentState)\n",
    "    # print(\"-------------\")\n",
    "    result = retrieval_chain.invoke(question)\n",
    "    return result"
   ]
  },
  {
   "cell_type": "code",
   "execution_count": 39,
   "id": "13d74405",
   "metadata": {},
   "outputs": [],
   "source": [
    "# define a langchain graph\n",
    "workflow4 = Graph()\n",
    "workflow4.add_node(\"LLM\", function_1)\n",
    "workflow4.add_node(\"RAG\", function_2)\n",
    "workflow4.add_edge(\"LLM\",\"RAG\")\n",
    "workflow4.set_entry_point(\"LLM\")\n",
    "workflow4.set_finish_point(\"RAG\")\n",
    "app4 = workflow4.compile()"
   ]
  },
  {
   "cell_type": "code",
   "execution_count": 40,
   "id": "fdf75196",
   "metadata": {},
   "outputs": [
    {
     "data": {
      "image/png": "[encoded data removed]",
      "text/plain": [
       "<IPython.core.display.Image object>"
      ]
     },
     "metadata": {},
     "output_type": "display_data"
    }
   ],
   "source": [
    "try:\n",
    "    display(Image(app4.get_graph().draw_mermaid_png()))\n",
    "except Exception as e:\n",
    "    print(e)"
   ]
  },
  {
   "cell_type": "code",
   "execution_count": 41,
   "id": "acbc6395",
   "metadata": {},
   "outputs": [],
   "source": [
    "inputs = {\"messages\" : [\"Tell me about llama3 model\"] }"
   ]
  },
  {
   "cell_type": "code",
   "execution_count": 42,
   "id": "18a360b8",
   "metadata": {},
   "outputs": [
    {
     "data": {
      "text/plain": [
       "'Based on the provided text snippets, here\\'s what we know about the Llama 3 model:\\n\\n* **Parameter Size:** There\\'s a version with 8 billion parameters (8B).\\n* **Capabilities:** The 8B parameter version is described as \"surprisingly capable\" despite its relatively smaller size compared to other large language models.\\n* **Comparisons:** Llama models have been favorably compared to other large language models, including models like Claude. \\n* **Benchmark Performance:** In most benchmarks, Llama models perform well against competitors.\\n\\n**To get a more complete picture of Llama 3, you\\'d need to consult the full document from which these snippets are taken.** \\n\\n\\nLet me know if you have any other questions! \\n'"
      ]
     },
     "execution_count": 42,
     "metadata": {},
     "output_type": "execute_result"
    }
   ],
   "source": [
    "app4.invoke(inputs)"
   ]
  },
  {
   "cell_type": "code",
   "execution_count": 43,
   "id": "2b5b0dcd",
   "metadata": {},
   "outputs": [
    {
     "name": "stdout",
     "output_type": "stream",
     "text": [
      "------------------------------\n",
      "Here is the output from LLM\n",
      "==============================\n",
      "{'messages': ['Tell me about llama3 model', 'Llama 3 is an open-source large language model (LLM) developed by Meta AI.  It comes in various sizes and is known for its strong performance in various tasks like text generation, translation, and question answering. \\n', 'Llama 3 is an open-source LLM by Meta AI. \\n']}\n",
      "------------------------------\n",
      "Here is the output from RAG\n",
      "==============================\n",
      "Llama 3 is a large language model that has been praised for its capabilities, especially considering its size. \n",
      "\n",
      "Here's what we know from the provided text:\n",
      "\n",
      "* **There's an 8B parameter version:** This refers to the size of the model, with \"8B\" likely standing for 8 billion parameters.\n",
      "* **It's \"surprisingly capable\":**  This suggests that despite its relatively smaller size compared to some other large language models, Llama 3 performs well.\n",
      "* **It's been compared favorably:**  Llama 3 has been benchmarked against other models like GPT and Claude, and generally performs well in these comparisons. \n",
      "\n",
      "\n",
      "Overall, the text paints a positive picture of Llama 3, highlighting its impressive performance for its size and its competitive standing against other large language models. \n",
      "\n"
     ]
    }
   ],
   "source": [
    "for output in app4.stream(inputs):\n",
    "    for key, value in output.items():\n",
    "        print(\"------------------------------\")\n",
    "        print(f\"Here is the output from {key}\")\n",
    "        print(\"==============================\")\n",
    "        print(value)"
   ]
  },
  {
   "cell_type": "markdown",
   "id": "a385a2a0",
   "metadata": {},
   "source": [
    "LAST ONE"
   ]
  },
  {
   "cell_type": "code",
   "execution_count": 44,
   "id": "ffc18393",
   "metadata": {},
   "outputs": [],
   "source": [
    "loader2 = DirectoryLoader('../data2', glob=\"./*.txt\", loader_cls=TextLoader)\n",
    "docs2 = loader2.load()\n",
    "text_splitter2 = RecursiveCharacterTextSplitter(\n",
    "    chunk_size = 100,\n",
    "    chunk_overlap = 50\n",
    ")\n",
    "new_docs2 = text_splitter2.split_documents(documents=docs2)\n",
    "dB2 = Chroma.from_documents(new_docs2,embeddings)\n",
    "retriever2 = dB2.as_retriever(search_kwargs = {\"k\" : 3})"
   ]
  },
  {
   "cell_type": "code",
   "execution_count": 45,
   "id": "bd4ef07b",
   "metadata": {},
   "outputs": [],
   "source": [
    "query2 = \"Tell me about Japan's industrial growth.\"\n",
    "docs2 = retriever1.get_relevant_documents(query2)"
   ]
  },
  {
   "cell_type": "code",
   "execution_count": 46,
   "id": "1eb0c0ef",
   "metadata": {},
   "outputs": [
    {
     "name": "stdout",
     "output_type": "stream",
     "text": [
      "{'source': '..\\\\data2\\\\japan.txt'}\n",
      "Japan's last four year GDP:\n",
      "page_content='Japan's last four year GDP:' metadata={'source': '..\\\\data2\\\\japan.txt'}\n",
      "page_content='Industrial revival hope for Japan' metadata={'source': '..\\\\data2\\\\japan.txt'}\n",
      "page_content='a recovery from the three quarters of contraction seen from April 2004 on. The Nikkei 225 index' metadata={'source': '..\\\\data2\\\\japan.txt'}\n"
     ]
    }
   ],
   "source": [
    "print(docs2[0].metadata)\n",
    "print(docs2[0].page_content)\n",
    "for doc in docs2:\n",
    "    print(doc)"
   ]
  },
  {
   "cell_type": "markdown",
   "id": "c3c0eff6",
   "metadata": {},
   "source": [
    "1. TypedDict is a special type that allows you to define a dictionary in python where each key has a specific type its useful when you want to enforce type checks on the keys and values of a dictionary.\n",
    "\n",
    "2. Annotated is used to add metadata or constraints to a type. Its typically used for adding additional information, like constraints or description, to the type.\n",
    "\n",
    "3. Sequence is a generic type from Python's typing module that represents a list-like structure (such as a list or tuple) where the order matters, and you can access elements by their position.\n",
    "\n",
    "4. BaseMessage: This assumes you're working with the LangChain framework, and BaseMessage is part of its core messaging system. It is typically used when handling or processing messages in LangChain's workflows.\n",
    "\n",
    "5. operator.add is a function from Python's operator module that performs addition (+) on its arguments. In this context, it is being used as metadata for the Annotated type, likely suggesting that the sequence of BaseMessage objects is concatenated with another sequence at some point. It’s an indicator of how the messages field will be treated in the program.\n",
    "\n",
    "- TopicSelectionParser: A Pydantic model that defines two fields (Topic and Reasoning), both of which are required.\n",
    "\n",
    "- Field: Adds metadata, like descriptions, and can also be used for validation and constraints.\n",
    "\n",
    "- Pydantic's Role: Ensures that the data matches the expected structure and types, raising validation errors if they do not."
   ]
  },
  {
   "cell_type": "code",
   "execution_count": 47,
   "id": "457866d3",
   "metadata": {},
   "outputs": [],
   "source": [
    "class AgentState(TypedDict):\n",
    "    # the 'message' field should be a sequence of strings, we annotate it with operator.add\n",
    "    # this implies that we might want to \"add\" new messages to the sequence later\n",
    "    message : Annotated[Sequence[BaseMessage], operator.add]"
   ]
  },
  {
   "cell_type": "markdown",
   "id": "439318bc",
   "metadata": {},
   "source": [
    "Putting It All Together:\n",
    "\n",
    "- The line messages: Annotated[Sequence[BaseMessage], operator.add] defines a field messages that: Must be a sequence (like a list or tuple) of BaseMessage objects. Has the additional annotation operator.add, which suggests that this sequence is intended to support addition (i.e., concatenation of multiple sequences of messages)."
   ]
  },
  {
   "cell_type": "markdown",
   "id": "7618e5e2",
   "metadata": {},
   "source": [
    "eg. \"messages\": [BaseMessage(\"Hello!\", \"Alice\"), BaseMessage(\"Hi!\", \"Bob\")]"
   ]
  },
  {
   "cell_type": "code",
   "execution_count": 48,
   "id": "91b0f4a7",
   "metadata": {},
   "outputs": [],
   "source": [
    "class TopicSelectionParser(BaseModel):\n",
    "    Topic : str = Field(description=\"Selected Topic\")\n",
    "    Reasoning : str = Field(description=\"Reasoning behind the topic selection\")"
   ]
  },
  {
   "cell_type": "code",
   "execution_count": 49,
   "id": "5553a502",
   "metadata": {},
   "outputs": [],
   "source": [
    "parser = PydanticOutputParser(pydantic_object=TopicSelectionParser)"
   ]
  },
  {
   "cell_type": "code",
   "execution_count": 50,
   "id": "482948a8",
   "metadata": {},
   "outputs": [
    {
     "name": "stdout",
     "output_type": "stream",
     "text": [
      "The output should be formatted as a JSON instance that conforms to the JSON schema below.\n",
      "\n",
      "As an example, for the schema {\"properties\": {\"foo\": {\"title\": \"Foo\", \"description\": \"a list of strings\", \"type\": \"array\", \"items\": {\"type\": \"string\"}}}, \"required\": [\"foo\"]}\n",
      "the object {\"foo\": [\"bar\", \"baz\"]} is a well-formatted instance of the schema. The object {\"properties\": {\"foo\": [\"bar\", \"baz\"]}} is not well-formatted.\n",
      "\n",
      "Here is the output schema:\n",
      "```\n",
      "{\"properties\": {\"Topic\": {\"description\": \"Selected Topic\", \"title\": \"Topic\", \"type\": \"string\"}, \"Reasoning\": {\"description\": \"Reasoning behind the topic selection\", \"title\": \"Reasoning\", \"type\": \"string\"}}, \"required\": [\"Topic\", \"Reasoning\"]}\n",
      "```\n"
     ]
    }
   ],
   "source": [
    "print(parser.get_format_instructions())"
   ]
  },
  {
   "cell_type": "code",
   "execution_count": 51,
   "id": "20ff0fa5",
   "metadata": {},
   "outputs": [],
   "source": [
    "def function__1(state):\n",
    "    message = state['message']\n",
    "    question = message[-1]\n",
    "    template = \"\"\"\n",
    "    Your task is to classify the given user query into one of the following categories : [Japan, Not related].\n",
    "    Only respond with the category name and nothing else.\n",
    "\n",
    "    user query: {question}\n",
    "    {format_instructions}\n",
    "    \"\"\"\n",
    "    prompt = PromptTemplate(\n",
    "        template=template,\n",
    "        input_variables=[question],\n",
    "        partial_variables={\n",
    "            \"format_instructions\" : parser.get_format_instructions()\n",
    "        }\n",
    "    )\n",
    "    chain = prompt | llm | parser\n",
    "    response = chain.invoke({\"question\" : question, \"format_instructions\" : parser.get_format_instructions()})\n",
    "    print(response)\n",
    "    return {\"message\" : [response.Topic]}"
   ]
  },
  {
   "cell_type": "code",
   "execution_count": 52,
   "id": "cddde13c",
   "metadata": {},
   "outputs": [],
   "source": [
    "state = {\"message\" : [\"Tell me about Japan's Industrial Growth\"]}"
   ]
  },
  {
   "cell_type": "code",
   "execution_count": 53,
   "id": "eaa90e5f",
   "metadata": {},
   "outputs": [
    {
     "name": "stdout",
     "output_type": "stream",
     "text": [
      "Topic='Japan' Reasoning=\"The query directly asks for information about Japan's industrial growth.\"\n"
     ]
    },
    {
     "data": {
      "text/plain": [
       "{'message': ['Japan']}"
      ]
     },
     "execution_count": 53,
     "metadata": {},
     "output_type": "execute_result"
    }
   ],
   "source": [
    "function__1(state)"
   ]
  },
  {
   "cell_type": "code",
   "execution_count": 54,
   "id": "7c1b802c",
   "metadata": {},
   "outputs": [],
   "source": [
    "def router(state):\n",
    "    print('Router -> ')\n",
    "    message = state['message']\n",
    "    last_message = message[-1]\n",
    "    print(last_message)\n",
    "    if 'Japan' in last_message:\n",
    "        return 'RAG CALL'\n",
    "    return 'LLM CALL'"
   ]
  },
  {
   "cell_type": "code",
   "execution_count": 55,
   "id": "ab1161d5",
   "metadata": {},
   "outputs": [],
   "source": [
    "def function__2(state):\n",
    "    print('-> calling RAG ->')\n",
    "    message = state['message']\n",
    "    question = message[0] # fetching original user question\n",
    "    print(question)\n",
    "    template = \"\"\"Answer the question based on the following context:\n",
    "    {context}\n",
    "\n",
    "    Question: {question}\n",
    "    \"\"\"\n",
    "    prompt = ChatPromptTemplate.from_template(template)\n",
    "    print(prompt)\n",
    "    retrieval_chain = (\n",
    "        {\"context\" : retriever1, \"question\" : RunnablePassthrough()}\n",
    "        | prompt\n",
    "        | llm\n",
    "        | StrOutputParser()\n",
    "    )\n",
    "    # print(\"============\")\n",
    "    # print(AgentState)\n",
    "    # print(\"-------------\")\n",
    "    result = retrieval_chain.invoke(question)\n",
    "    return {\"message\" : [result]}"
   ]
  },
  {
   "cell_type": "code",
   "execution_count": 65,
   "id": "95c770c9",
   "metadata": {},
   "outputs": [],
   "source": [
    "def function__3(state):\n",
    "    print('-> calling LLM ->')\n",
    "    message = state['message']\n",
    "    question = message[0]\n",
    "    complete_prompt = \"\"\"Your task is to provide only the brief answer based on the user query.\n",
    "    Don't include too much reasoning. Following is the query:  \"\"\" + question\n",
    "    response = llm.invoke(complete_prompt)\n",
    "    # print(\"============\")\n",
    "    # print(AgentState)\n",
    "    # print(\"-------------\")\n",
    "    return {\"message\" : [response.content]}"
   ]
  },
  {
   "cell_type": "code",
   "execution_count": 66,
   "id": "b0bc66b8",
   "metadata": {},
   "outputs": [
    {
     "data": {
      "text/plain": [
       "__main__.AgentState"
      ]
     },
     "execution_count": 66,
     "metadata": {},
     "output_type": "execute_result"
    }
   ],
   "source": [
    "AgentState"
   ]
  },
  {
   "cell_type": "code",
   "execution_count": 67,
   "id": "fd0cd85d",
   "metadata": {},
   "outputs": [],
   "source": [
    "workflow5 = StateGraph(AgentState)\n",
    "workflow5.add_node(\"agent\", function__1)\n",
    "workflow5.add_node(\"RAG\", function__2)\n",
    "workflow5.add_node(\"LLM\", function__3)\n",
    "workflow5.set_entry_point(\"agent\")\n",
    "workflow5.add_conditional_edges(\n",
    "    \"agent\",\n",
    "    router,\n",
    "    {\n",
    "        \"RAG CALL\" : \"RAG\",\n",
    "        \"LLM CALL\" : \"LLM\"\n",
    "    }\n",
    ")\n",
    "workflow5.add_edge(\"RAG\",END)\n",
    "workflow5.add_edge(\"LLM\",END)\n",
    "app5 = workflow5.compile()"
   ]
  },
  {
   "cell_type": "code",
   "execution_count": 68,
   "id": "2c057145",
   "metadata": {},
   "outputs": [
    {
     "data": {
      "image/png": "[encoded data removed]",
      "text/plain": [
       "<IPython.core.display.Image object>"
      ]
     },
     "metadata": {},
     "output_type": "display_data"
    }
   ],
   "source": [
    "try:\n",
    "    display(Image(app5.get_graph().draw_mermaid_png()))\n",
    "except Exception as e:\n",
    "    print(e)"
   ]
  },
  {
   "cell_type": "code",
   "execution_count": 69,
   "id": "fe0259d1",
   "metadata": {},
   "outputs": [],
   "source": [
    "input = {\"message\" : [\"Tell me about Japan's Industrial Growth.\"]}"
   ]
  },
  {
   "cell_type": "code",
   "execution_count": 70,
   "id": "af88606b",
   "metadata": {},
   "outputs": [
    {
     "name": "stdout",
     "output_type": "stream",
     "text": [
      "Topic='Japan' Reasoning=\"The query specifically asks about Japan's Industrial Growth.\"\n",
      "Router -> \n",
      "Japan\n",
      "-> calling RAG ->\n",
      "Tell me about Japan's Industrial Growth.\n",
      "input_variables=['context', 'question'] input_types={} partial_variables={} messages=[HumanMessagePromptTemplate(prompt=PromptTemplate(input_variables=['context', 'question'], input_types={}, partial_variables={}, template='Answer the question based on the following context:\\n    {context}\\n\\n    Question: {question}\\n    '), additional_kwargs={})]\n"
     ]
    }
   ],
   "source": [
    "output = app5.invoke(input)"
   ]
  },
  {
   "cell_type": "code",
   "execution_count": 71,
   "id": "8df822bc",
   "metadata": {},
   "outputs": [
    {
     "data": {
      "text/plain": [
       "{'message': [\"Tell me about Japan's Industrial Growth.\",\n",
       "  'Japan',\n",
       "  'The provided text suggests that there is hope for industrial revival in Japan. \\n\\nIt mentions a \"recovery from the three quarters of contraction seen from April 2004 on,\" implying that Japan\\'s industrial sector had been struggling prior to this period.  \\n\\nHowever, the text doesn\\'t provide specific details about the nature or extent of the industrial growth. \\n\\n']}"
      ]
     },
     "execution_count": 71,
     "metadata": {},
     "output_type": "execute_result"
    }
   ],
   "source": [
    "output"
   ]
  },
  {
   "cell_type": "code",
   "execution_count": 72,
   "id": "f260636d",
   "metadata": {},
   "outputs": [],
   "source": [
    "input = {\"message\" : [\"Tell me about Taj Mahal.\"] }"
   ]
  },
  {
   "cell_type": "code",
   "execution_count": 73,
   "id": "e8026ff9",
   "metadata": {},
   "outputs": [
    {
     "name": "stdout",
     "output_type": "stream",
     "text": [
      "Topic='Not related' Reasoning='The Taj Mahal is in India, not Japan.'\n",
      "Router -> \n",
      "Not related\n",
      "-> calling LLM ->\n"
     ]
    }
   ],
   "source": [
    "output = app5.invoke(input)"
   ]
  },
  {
   "cell_type": "code",
   "execution_count": 74,
   "id": "0291935e",
   "metadata": {},
   "outputs": [
    {
     "data": {
      "text/plain": [
       "{'message': ['Tell me about Taj Mahal.',\n",
       "  'Not related',\n",
       "  'The Taj Mahal is a white marble mausoleum in Agra, India.  It was built by Mughal emperor Shah Jahan in memory of his third wife Mumtaz Mahal.  \\n']}"
      ]
     },
     "execution_count": 74,
     "metadata": {},
     "output_type": "execute_result"
    }
   ],
   "source": [
    "output"
   ]
  }
 ],
 "metadata": {
  "kernelspec": {
   "display_name": "venv",
   "language": "python",
   "name": "python3"
  },
  "language_info": {
   "codemirror_mode": {
    "name": "ipython",
    "version": 3
   },
   "file_extension": ".py",
   "mimetype": "text/x-python",
   "name": "python",
   "nbconvert_exporter": "python",
   "pygments_lexer": "ipython3",
   "version": "3.11.3"
  }
 },
 "nbformat": 4,
 "nbformat_minor": 5
}
